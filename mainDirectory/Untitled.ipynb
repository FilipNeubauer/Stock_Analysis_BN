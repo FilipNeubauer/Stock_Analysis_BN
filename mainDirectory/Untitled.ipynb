{
 "cells": [
  {
   "cell_type": "code",
   "execution_count": 2,
   "id": "0c2f4523",
   "metadata": {},
   "outputs": [],
   "source": [
    "from sklearn.feature_extraction.text import CountVectorizer "
   ]
  },
  {
   "cell_type": "code",
   "execution_count": 7,
   "id": "697e5453",
   "metadata": {},
   "outputs": [
    {
     "name": "stdout",
     "output_type": "stream",
     "text": [
      "['another' 'example' 'is' 'sample' 'sentence' 'this']\n",
      "  (0, 5)\t1\n",
      "  (0, 2)\t1\n",
      "  (0, 3)\t1\n",
      "  (0, 4)\t1\n",
      "  (1, 4)\t1\n",
      "  (1, 0)\t1\n",
      "  (1, 1)\t1\n",
      "\n",
      "  (0, 4)\t1\n",
      "  (0, 5)\t1\n",
      "{'this': 5, 'is': 2, 'sample': 3, 'sentence': 4, 'another': 0, 'example': 1}\n"
     ]
    }
   ],
   "source": [
    "from sklearn.feature_extraction.text import CountVectorizer\n",
    "from sklearn.model_selection import train_test_split\n",
    "\n",
    "# Sample data\n",
    "X = [\"This is a sample sentence.\", \"Another example sentence.\"]\n",
    "y = [0, 1]\n",
    "X_test = [\"And one more sentence. This\"]\n",
    "\n",
    "y = [0, 1, 0]\n",
    "\n",
    "# Step 1: Fit CountVectorizer on Training Data\n",
    "vectorizer = CountVectorizer()\n",
    "\n",
    "pipeline = Pipeline([\n",
    "    ('vectorizer', CountVectorizer()),  # You can customize CountVectorizer options here\n",
    "    ('classifier', SVC())              # Replace SVC() with your desired classifier\n",
    "])\n",
    "\n",
    "# Define the parameter grid for grid search\n",
    "param_grid = {\n",
    "    'vectorizer__max_features': [1000, 5000, None],  # Number of features (words)\n",
    "    'vectorizer__ngram_range': [(1, 1), (1, 2)],    # N-gram range (unigrams and bigrams)\n",
    "}\n",
    "\n",
    "X_out = vectorizer.fit_transform(X)\n",
    "\n",
    "print(vectorizer.get_feature_names_out())\n",
    "\n",
    "#X_test_out = vectorizer.fit_transform(X_test)\n",
    "\n",
    "X_test_out = vectorizer.transform(X_test)\n",
    "\n",
    "\n",
    "print(X_out)\n",
    "print()\n",
    "print(X_test_out)\n",
    "\n",
    "print(vectorizer.vocabulary_)"
   ]
  },
  {
   "cell_type": "code",
   "execution_count": null,
   "id": "372756c6",
   "metadata": {},
   "outputs": [],
   "source": [
    "jjjjj"
   ]
  }
 ],
 "metadata": {
  "kernelspec": {
   "display_name": "Python 3 (ipykernel)",
   "language": "python",
   "name": "python3"
  },
  "language_info": {
   "codemirror_mode": {
    "name": "ipython",
    "version": 3
   },
   "file_extension": ".py",
   "mimetype": "text/x-python",
   "name": "python",
   "nbconvert_exporter": "python",
   "pygments_lexer": "ipython3",
   "version": "3.10.0"
  }
 },
 "nbformat": 4,
 "nbformat_minor": 5
}
